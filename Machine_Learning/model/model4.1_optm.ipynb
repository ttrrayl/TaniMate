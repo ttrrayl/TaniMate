{
 "cells": [
  {
   "cell_type": "code",
   "execution_count": 1,
   "metadata": {},
   "outputs": [
    {
     "name": "stdout",
     "output_type": "stream",
     "text": [
      "2.9.0\n",
      "1.5.3\n"
     ]
    }
   ],
   "source": [
    "import pandas as pd\n",
    "import tensorflow as tf\n",
    "from tensorflow import keras\n",
    "from tensorflow.keras import layers\n",
    "import tensorflowjs as tfjs\n",
    "print(tf.__version__)\n",
    "print(pd.__version__)"
   ]
  },
  {
   "cell_type": "code",
   "execution_count": 2,
   "metadata": {},
   "outputs": [
    {
     "data": {
      "text/plain": [
       "Index(['P', 'hujan', 'curahhujan', 'jenistanaman', 'teksturtanah', 'area',\n",
       "       'pupuk'],\n",
       "      dtype='object')"
      ]
     },
     "execution_count": 2,
     "metadata": {},
     "output_type": "execute_result"
    }
   ],
   "source": [
    "df = pd.read_csv('fertilizer_amount_dataset.csv')\n",
    "df.columns\n"
   ]
  },
  {
   "cell_type": "code",
   "execution_count": 23,
   "metadata": {},
   "outputs": [
    {
     "ename": "KeyError",
     "evalue": "'jenistanaman'",
     "output_type": "error",
     "traceback": [
      "\u001b[1;31m---------------------------------------------------------------------------\u001b[0m",
      "\u001b[1;31mKeyError\u001b[0m                                  Traceback (most recent call last)",
      "File \u001b[1;32mc:\\Users\\alzim\\anaconda3\\lib\\site-packages\\pandas\\core\\indexes\\base.py:3802\u001b[0m, in \u001b[0;36mIndex.get_loc\u001b[1;34m(self, key, method, tolerance)\u001b[0m\n\u001b[0;32m   3801\u001b[0m \u001b[39mtry\u001b[39;00m:\n\u001b[1;32m-> 3802\u001b[0m     \u001b[39mreturn\u001b[39;00m \u001b[39mself\u001b[39;49m\u001b[39m.\u001b[39;49m_engine\u001b[39m.\u001b[39;49mget_loc(casted_key)\n\u001b[0;32m   3803\u001b[0m \u001b[39mexcept\u001b[39;00m \u001b[39mKeyError\u001b[39;00m \u001b[39mas\u001b[39;00m err:\n",
      "File \u001b[1;32mc:\\Users\\alzim\\anaconda3\\lib\\site-packages\\pandas\\_libs\\index.pyx:138\u001b[0m, in \u001b[0;36mpandas._libs.index.IndexEngine.get_loc\u001b[1;34m()\u001b[0m\n",
      "File \u001b[1;32mc:\\Users\\alzim\\anaconda3\\lib\\site-packages\\pandas\\_libs\\index.pyx:165\u001b[0m, in \u001b[0;36mpandas._libs.index.IndexEngine.get_loc\u001b[1;34m()\u001b[0m\n",
      "File \u001b[1;32mpandas\\_libs\\hashtable_class_helper.pxi:5745\u001b[0m, in \u001b[0;36mpandas._libs.hashtable.PyObjectHashTable.get_item\u001b[1;34m()\u001b[0m\n",
      "File \u001b[1;32mpandas\\_libs\\hashtable_class_helper.pxi:5753\u001b[0m, in \u001b[0;36mpandas._libs.hashtable.PyObjectHashTable.get_item\u001b[1;34m()\u001b[0m\n",
      "\u001b[1;31mKeyError\u001b[0m: 'jenistanaman'",
      "\nThe above exception was the direct cause of the following exception:\n",
      "\u001b[1;31mKeyError\u001b[0m                                  Traceback (most recent call last)",
      "Cell \u001b[1;32mIn[23], line 1\u001b[0m\n\u001b[1;32m----> 1\u001b[0m df[\u001b[39m'\u001b[39m\u001b[39mjenistanaman\u001b[39m\u001b[39m'\u001b[39m] \u001b[39m=\u001b[39m df[\u001b[39m'\u001b[39;49m\u001b[39mjenistanaman\u001b[39;49m\u001b[39m'\u001b[39;49m]\u001b[39m.\u001b[39mastype(\u001b[39m'\u001b[39m\u001b[39mcategory\u001b[39m\u001b[39m'\u001b[39m)\n\u001b[0;32m      2\u001b[0m df[\u001b[39m'\u001b[39m\u001b[39mjenistanaman\u001b[39m\u001b[39m'\u001b[39m] \u001b[39m=\u001b[39m df[\u001b[39m'\u001b[39m\u001b[39mjenistanaman\u001b[39m\u001b[39m'\u001b[39m]\u001b[39m.\u001b[39mcat\u001b[39m.\u001b[39mcodes\n\u001b[0;32m      3\u001b[0m df[\u001b[39m'\u001b[39m\u001b[39mteksturtanah\u001b[39m\u001b[39m'\u001b[39m] \u001b[39m=\u001b[39m df[\u001b[39m'\u001b[39m\u001b[39mteksturtanah\u001b[39m\u001b[39m'\u001b[39m]\u001b[39m.\u001b[39mastype(\u001b[39m'\u001b[39m\u001b[39mcategory\u001b[39m\u001b[39m'\u001b[39m)\n",
      "File \u001b[1;32mc:\\Users\\alzim\\anaconda3\\lib\\site-packages\\pandas\\core\\frame.py:3807\u001b[0m, in \u001b[0;36mDataFrame.__getitem__\u001b[1;34m(self, key)\u001b[0m\n\u001b[0;32m   3805\u001b[0m \u001b[39mif\u001b[39;00m \u001b[39mself\u001b[39m\u001b[39m.\u001b[39mcolumns\u001b[39m.\u001b[39mnlevels \u001b[39m>\u001b[39m \u001b[39m1\u001b[39m:\n\u001b[0;32m   3806\u001b[0m     \u001b[39mreturn\u001b[39;00m \u001b[39mself\u001b[39m\u001b[39m.\u001b[39m_getitem_multilevel(key)\n\u001b[1;32m-> 3807\u001b[0m indexer \u001b[39m=\u001b[39m \u001b[39mself\u001b[39;49m\u001b[39m.\u001b[39;49mcolumns\u001b[39m.\u001b[39;49mget_loc(key)\n\u001b[0;32m   3808\u001b[0m \u001b[39mif\u001b[39;00m is_integer(indexer):\n\u001b[0;32m   3809\u001b[0m     indexer \u001b[39m=\u001b[39m [indexer]\n",
      "File \u001b[1;32mc:\\Users\\alzim\\anaconda3\\lib\\site-packages\\pandas\\core\\indexes\\base.py:3804\u001b[0m, in \u001b[0;36mIndex.get_loc\u001b[1;34m(self, key, method, tolerance)\u001b[0m\n\u001b[0;32m   3802\u001b[0m     \u001b[39mreturn\u001b[39;00m \u001b[39mself\u001b[39m\u001b[39m.\u001b[39m_engine\u001b[39m.\u001b[39mget_loc(casted_key)\n\u001b[0;32m   3803\u001b[0m \u001b[39mexcept\u001b[39;00m \u001b[39mKeyError\u001b[39;00m \u001b[39mas\u001b[39;00m err:\n\u001b[1;32m-> 3804\u001b[0m     \u001b[39mraise\u001b[39;00m \u001b[39mKeyError\u001b[39;00m(key) \u001b[39mfrom\u001b[39;00m \u001b[39merr\u001b[39;00m\n\u001b[0;32m   3805\u001b[0m \u001b[39mexcept\u001b[39;00m \u001b[39mTypeError\u001b[39;00m:\n\u001b[0;32m   3806\u001b[0m     \u001b[39m# If we have a listlike key, _check_indexing_error will raise\u001b[39;00m\n\u001b[0;32m   3807\u001b[0m     \u001b[39m#  InvalidIndexError. Otherwise we fall through and re-raise\u001b[39;00m\n\u001b[0;32m   3808\u001b[0m     \u001b[39m#  the TypeError.\u001b[39;00m\n\u001b[0;32m   3809\u001b[0m     \u001b[39mself\u001b[39m\u001b[39m.\u001b[39m_check_indexing_error(key)\n",
      "\u001b[1;31mKeyError\u001b[0m: 'jenistanaman'"
     ]
    }
   ],
   "source": [
    "df['jenistanaman'] = df['jenistanaman'].astype('category')\n",
    "df['jenistanaman'] = df['jenistanaman'].cat.codes\n",
    "df['teksturtanah'] = df['teksturtanah'].astype('category')\n",
    "df['teksturtanah'] = df['teksturtanah'].cat.codes\n",
    "df['curahhujan'] = df['curahhujan'].astype('category')\n",
    "df['curahhujan'] = df['curahhujan'].cat.codes\n",
    "df\n"
   ]
  },
  {
   "cell_type": "code",
   "execution_count": 4,
   "metadata": {},
   "outputs": [
    {
     "data": {
      "text/html": [
       "<div>\n",
       "<style scoped>\n",
       "    .dataframe tbody tr th:only-of-type {\n",
       "        vertical-align: middle;\n",
       "    }\n",
       "\n",
       "    .dataframe tbody tr th {\n",
       "        vertical-align: top;\n",
       "    }\n",
       "\n",
       "    .dataframe thead th {\n",
       "        text-align: right;\n",
       "    }\n",
       "</style>\n",
       "<table border=\"1\" class=\"dataframe\">\n",
       "  <thead>\n",
       "    <tr style=\"text-align: right;\">\n",
       "      <th></th>\n",
       "      <th>pupuk</th>\n",
       "      <th>P</th>\n",
       "      <th>hujan</th>\n",
       "      <th>curahhujan</th>\n",
       "      <th>area</th>\n",
       "      <th>Padi</th>\n",
       "      <th>Jagung</th>\n",
       "      <th>Kacang Merah</th>\n",
       "      <th>Kacang Hijau</th>\n",
       "      <th>Semangka</th>\n",
       "      <th>Melon</th>\n",
       "      <th>Apel</th>\n",
       "      <th>Jeruk</th>\n",
       "      <th>Kopi</th>\n",
       "      <th>Lempung</th>\n",
       "      <th>Lempung Berpasir</th>\n",
       "      <th>Pasir Berlempung</th>\n",
       "      <th>Liat Berpasir</th>\n",
       "    </tr>\n",
       "  </thead>\n",
       "  <tbody>\n",
       "    <tr>\n",
       "      <th>0</th>\n",
       "      <td>251</td>\n",
       "      <td>56</td>\n",
       "      <td>71.075622</td>\n",
       "      <td>1</td>\n",
       "      <td>17800</td>\n",
       "      <td>0</td>\n",
       "      <td>1</td>\n",
       "      <td>0</td>\n",
       "      <td>0</td>\n",
       "      <td>0</td>\n",
       "      <td>0</td>\n",
       "      <td>0</td>\n",
       "      <td>0</td>\n",
       "      <td>0</td>\n",
       "      <td>1</td>\n",
       "      <td>0</td>\n",
       "      <td>0</td>\n",
       "      <td>0</td>\n",
       "    </tr>\n",
       "    <tr>\n",
       "      <th>1</th>\n",
       "      <td>227</td>\n",
       "      <td>36</td>\n",
       "      <td>73.336361</td>\n",
       "      <td>0</td>\n",
       "      <td>19500</td>\n",
       "      <td>0</td>\n",
       "      <td>1</td>\n",
       "      <td>0</td>\n",
       "      <td>0</td>\n",
       "      <td>0</td>\n",
       "      <td>0</td>\n",
       "      <td>0</td>\n",
       "      <td>0</td>\n",
       "      <td>0</td>\n",
       "      <td>1</td>\n",
       "      <td>0</td>\n",
       "      <td>0</td>\n",
       "      <td>0</td>\n",
       "    </tr>\n",
       "    <tr>\n",
       "      <th>2</th>\n",
       "      <td>566</td>\n",
       "      <td>43</td>\n",
       "      <td>99.579812</td>\n",
       "      <td>0</td>\n",
       "      <td>28300</td>\n",
       "      <td>0</td>\n",
       "      <td>1</td>\n",
       "      <td>0</td>\n",
       "      <td>0</td>\n",
       "      <td>0</td>\n",
       "      <td>0</td>\n",
       "      <td>0</td>\n",
       "      <td>0</td>\n",
       "      <td>0</td>\n",
       "      <td>0</td>\n",
       "      <td>1</td>\n",
       "      <td>0</td>\n",
       "      <td>0</td>\n",
       "    </tr>\n",
       "    <tr>\n",
       "      <th>3</th>\n",
       "      <td>307</td>\n",
       "      <td>44</td>\n",
       "      <td>102.266244</td>\n",
       "      <td>0</td>\n",
       "      <td>14400</td>\n",
       "      <td>0</td>\n",
       "      <td>1</td>\n",
       "      <td>0</td>\n",
       "      <td>0</td>\n",
       "      <td>0</td>\n",
       "      <td>0</td>\n",
       "      <td>0</td>\n",
       "      <td>0</td>\n",
       "      <td>0</td>\n",
       "      <td>0</td>\n",
       "      <td>1</td>\n",
       "      <td>0</td>\n",
       "      <td>0</td>\n",
       "    </tr>\n",
       "    <tr>\n",
       "      <th>4</th>\n",
       "      <td>580</td>\n",
       "      <td>47</td>\n",
       "      <td>104.162615</td>\n",
       "      <td>0</td>\n",
       "      <td>25700</td>\n",
       "      <td>0</td>\n",
       "      <td>1</td>\n",
       "      <td>0</td>\n",
       "      <td>0</td>\n",
       "      <td>0</td>\n",
       "      <td>0</td>\n",
       "      <td>0</td>\n",
       "      <td>0</td>\n",
       "      <td>0</td>\n",
       "      <td>0</td>\n",
       "      <td>1</td>\n",
       "      <td>0</td>\n",
       "      <td>0</td>\n",
       "    </tr>\n",
       "    <tr>\n",
       "      <th>...</th>\n",
       "      <td>...</td>\n",
       "      <td>...</td>\n",
       "      <td>...</td>\n",
       "      <td>...</td>\n",
       "      <td>...</td>\n",
       "      <td>...</td>\n",
       "      <td>...</td>\n",
       "      <td>...</td>\n",
       "      <td>...</td>\n",
       "      <td>...</td>\n",
       "      <td>...</td>\n",
       "      <td>...</td>\n",
       "      <td>...</td>\n",
       "      <td>...</td>\n",
       "      <td>...</td>\n",
       "      <td>...</td>\n",
       "      <td>...</td>\n",
       "      <td>...</td>\n",
       "    </tr>\n",
       "    <tr>\n",
       "      <th>895</th>\n",
       "      <td>1117</td>\n",
       "      <td>34</td>\n",
       "      <td>177.774507</td>\n",
       "      <td>0</td>\n",
       "      <td>17600</td>\n",
       "      <td>0</td>\n",
       "      <td>0</td>\n",
       "      <td>0</td>\n",
       "      <td>0</td>\n",
       "      <td>0</td>\n",
       "      <td>0</td>\n",
       "      <td>0</td>\n",
       "      <td>0</td>\n",
       "      <td>1</td>\n",
       "      <td>0</td>\n",
       "      <td>1</td>\n",
       "      <td>0</td>\n",
       "      <td>0</td>\n",
       "    </tr>\n",
       "    <tr>\n",
       "      <th>896</th>\n",
       "      <td>641</td>\n",
       "      <td>15</td>\n",
       "      <td>127.924610</td>\n",
       "      <td>0</td>\n",
       "      <td>12000</td>\n",
       "      <td>0</td>\n",
       "      <td>0</td>\n",
       "      <td>0</td>\n",
       "      <td>0</td>\n",
       "      <td>0</td>\n",
       "      <td>0</td>\n",
       "      <td>0</td>\n",
       "      <td>0</td>\n",
       "      <td>1</td>\n",
       "      <td>0</td>\n",
       "      <td>1</td>\n",
       "      <td>0</td>\n",
       "      <td>0</td>\n",
       "    </tr>\n",
       "    <tr>\n",
       "      <th>897</th>\n",
       "      <td>726</td>\n",
       "      <td>33</td>\n",
       "      <td>173.322839</td>\n",
       "      <td>0</td>\n",
       "      <td>16000</td>\n",
       "      <td>0</td>\n",
       "      <td>0</td>\n",
       "      <td>0</td>\n",
       "      <td>0</td>\n",
       "      <td>0</td>\n",
       "      <td>0</td>\n",
       "      <td>0</td>\n",
       "      <td>0</td>\n",
       "      <td>1</td>\n",
       "      <td>1</td>\n",
       "      <td>0</td>\n",
       "      <td>0</td>\n",
       "      <td>0</td>\n",
       "    </tr>\n",
       "    <tr>\n",
       "      <th>898</th>\n",
       "      <td>678</td>\n",
       "      <td>32</td>\n",
       "      <td>127.175293</td>\n",
       "      <td>0</td>\n",
       "      <td>15300</td>\n",
       "      <td>0</td>\n",
       "      <td>0</td>\n",
       "      <td>0</td>\n",
       "      <td>0</td>\n",
       "      <td>0</td>\n",
       "      <td>0</td>\n",
       "      <td>0</td>\n",
       "      <td>0</td>\n",
       "      <td>1</td>\n",
       "      <td>1</td>\n",
       "      <td>0</td>\n",
       "      <td>0</td>\n",
       "      <td>0</td>\n",
       "    </tr>\n",
       "    <tr>\n",
       "      <th>899</th>\n",
       "      <td>366</td>\n",
       "      <td>18</td>\n",
       "      <td>140.937041</td>\n",
       "      <td>0</td>\n",
       "      <td>10100</td>\n",
       "      <td>0</td>\n",
       "      <td>0</td>\n",
       "      <td>0</td>\n",
       "      <td>0</td>\n",
       "      <td>0</td>\n",
       "      <td>0</td>\n",
       "      <td>0</td>\n",
       "      <td>0</td>\n",
       "      <td>1</td>\n",
       "      <td>1</td>\n",
       "      <td>0</td>\n",
       "      <td>0</td>\n",
       "      <td>0</td>\n",
       "    </tr>\n",
       "  </tbody>\n",
       "</table>\n",
       "<p>900 rows × 18 columns</p>\n",
       "</div>"
      ],
      "text/plain": [
       "     pupuk   P       hujan  curahhujan   area  Padi  Jagung  Kacang Merah  \\\n",
       "0      251  56   71.075622           1  17800     0       1             0   \n",
       "1      227  36   73.336361           0  19500     0       1             0   \n",
       "2      566  43   99.579812           0  28300     0       1             0   \n",
       "3      307  44  102.266244           0  14400     0       1             0   \n",
       "4      580  47  104.162615           0  25700     0       1             0   \n",
       "..     ...  ..         ...         ...    ...   ...     ...           ...   \n",
       "895   1117  34  177.774507           0  17600     0       0             0   \n",
       "896    641  15  127.924610           0  12000     0       0             0   \n",
       "897    726  33  173.322839           0  16000     0       0             0   \n",
       "898    678  32  127.175293           0  15300     0       0             0   \n",
       "899    366  18  140.937041           0  10100     0       0             0   \n",
       "\n",
       "     Kacang Hijau  Semangka  Melon  Apel  Jeruk  Kopi  Lempung  \\\n",
       "0               0         0      0     0      0     0        1   \n",
       "1               0         0      0     0      0     0        1   \n",
       "2               0         0      0     0      0     0        0   \n",
       "3               0         0      0     0      0     0        0   \n",
       "4               0         0      0     0      0     0        0   \n",
       "..            ...       ...    ...   ...    ...   ...      ...   \n",
       "895             0         0      0     0      0     1        0   \n",
       "896             0         0      0     0      0     1        0   \n",
       "897             0         0      0     0      0     1        1   \n",
       "898             0         0      0     0      0     1        1   \n",
       "899             0         0      0     0      0     1        1   \n",
       "\n",
       "     Lempung Berpasir  Pasir Berlempung  Liat Berpasir  \n",
       "0                   0                 0              0  \n",
       "1                   0                 0              0  \n",
       "2                   1                 0              0  \n",
       "3                   1                 0              0  \n",
       "4                   1                 0              0  \n",
       "..                ...               ...            ...  \n",
       "895                 1                 0              0  \n",
       "896                 1                 0              0  \n",
       "897                 0                 0              0  \n",
       "898                 0                 0              0  \n",
       "899                 0                 0              0  \n",
       "\n",
       "[900 rows x 18 columns]"
      ]
     },
     "execution_count": 4,
     "metadata": {},
     "output_type": "execute_result"
    }
   ],
   "source": [
    "\n",
    "# convert categorical 'jenistanaman' data into one-hot data\n",
    "jenistanaman = df.pop('jenistanaman')\n",
    "df['Padi'] = (jenistanaman == 7)*1\n",
    "df['Jagung'] = (jenistanaman == 1)*1\n",
    "df['Kacang Merah'] = (jenistanaman == 4)*1\n",
    "df['Kacang Hijau'] = (jenistanaman == 3)*1\n",
    "df['Semangka'] = (jenistanaman == 8)*1\n",
    "df['Melon'] = (jenistanaman == 6)*1\n",
    "df['Apel'] = (jenistanaman == 0)*1\n",
    "df['Jeruk'] = (jenistanaman == 2)*1\n",
    "df['Kopi'] = (jenistanaman == 5)*1\n",
    "\n",
    "# convert categorical 'teksturtanah' data into one-hot data\n",
    "tt = df.pop('teksturtanah')\n",
    "df['Lempung'] = (tt == 0)*1\n",
    "df['Lempung Berpasir'] = (tt == 1)*1\n",
    "df['Pasir Berlempung'] = (tt == 3)*1\n",
    "df['Liat Berpasir'] = (tt == 2)*1\n",
    "\n",
    "column_to_move = df.pop(\"pupuk\")\n",
    "\n",
    "# insert column with insert(location, column_name, column_value)\n",
    "\n",
    "df.insert(0, \"pupuk\", column_to_move)\n",
    "df\n",
    "\n"
   ]
  },
  {
   "cell_type": "code",
   "execution_count": 5,
   "metadata": {},
   "outputs": [
    {
     "data": {
      "text/plain": [
       "array([[  251, 17800,     0, ...,     0,     0,     0],\n",
       "       [  227, 19500,     0, ...,     0,     0,     0],\n",
       "       [  566, 28300,     0, ...,     1,     0,     0],\n",
       "       ...,\n",
       "       [  726, 16000,     0, ...,     0,     0,     0],\n",
       "       [  678, 15300,     0, ...,     0,     0,     0],\n",
       "       [  366, 10100,     0, ...,     0,     0,     0]], dtype=int64)"
      ]
     },
     "execution_count": 5,
     "metadata": {},
     "output_type": "execute_result"
    }
   ],
   "source": [
    "df = df.drop(columns=(['curahhujan','hujan','P']))\n",
    "dataset = df.values\n",
    "dataset"
   ]
  },
  {
   "cell_type": "code",
   "execution_count": 6,
   "metadata": {},
   "outputs": [
    {
     "data": {
      "text/plain": [
       "array([[17800,     0,     1, ...,     0,     0,     0],\n",
       "       [19500,     0,     1, ...,     0,     0,     0],\n",
       "       [28300,     0,     1, ...,     1,     0,     0],\n",
       "       ...,\n",
       "       [16000,     0,     0, ...,     0,     0,     0],\n",
       "       [15300,     0,     0, ...,     0,     0,     0],\n",
       "       [10100,     0,     0, ...,     0,     0,     0]], dtype=int64)"
      ]
     },
     "execution_count": 6,
     "metadata": {},
     "output_type": "execute_result"
    }
   ],
   "source": [
    "X = dataset[:, 1:]\n",
    "y = dataset[:, 0:1]\n",
    "X"
   ]
  },
  {
   "cell_type": "code",
   "execution_count": 7,
   "metadata": {},
   "outputs": [
    {
     "name": "stdout",
     "output_type": "stream",
     "text": [
      "[[1.94654434e+04 1.11111090e-01 1.11111090e-01 1.11111090e-01\n",
      "  1.11111090e-01 1.11111112e-01 1.11111104e-01 1.11111104e-01\n",
      "  1.11111112e-01 1.11111119e-01 3.33333284e-01 4.51111138e-01\n",
      "  1.08888872e-01 1.06666654e-01]]\n"
     ]
    }
   ],
   "source": [
    "from tensorflow.keras.layers.experimental import preprocessing\n",
    "import numpy as np\n",
    "\n",
    "# Normalization\n",
    "normalizer = preprocessing.Normalization()\n",
    "\n",
    "# adapt to the data\n",
    "normalizer.adapt(np.array(X))\n",
    "print(normalizer.mean.numpy())"
   ]
  },
  {
   "cell_type": "code",
   "execution_count": 8,
   "metadata": {},
   "outputs": [],
   "source": [
    "\n",
    "def build_model():\n",
    "    model = keras.Sequential([\n",
    "        normalizer,\n",
    "        layers.Dense(256, activation='relu', input_shape=[14]),\n",
    "        layers.Dense(128, activation='relu'),\n",
    "        #layers.Dropout(0.2), # biar ga overfit\n",
    "        layers.Dense(64, activation='relu'),\n",
    "        layers.Dense(1)\n",
    "    ])\n",
    "    optimizer = tf.keras.optimizers.RMSprop(learning_rate=0.001) #coba ganti Adam\n",
    "\n",
    "    model.compile(optimizer=optimizer,\n",
    "                  loss='mse',\n",
    "                  metrics=['mse','mae'])\n",
    "    \n",
    "    return model\n"
   ]
  },
  {
   "cell_type": "code",
   "execution_count": 9,
   "metadata": {},
   "outputs": [],
   "source": [
    "# def build_model():\n",
    "#     model = keras.Sequential([\n",
    "#         normalizer,\n",
    "#         layers.Dense(256, activation='relu', input_shape=[14]),\n",
    "#         layers.Dense(128, activation='relu'),\n",
    "#         #layers.Dropout(0.3), # biar ga overfit\n",
    "#         layers.Dense(64, activation='relu'),\n",
    "#         layers.Dense(32, activation = 'relu'),\n",
    "#         layers.Dense(1)\n",
    "#     ])\n",
    "#     optimizer = tf.keras.optimizers.Adam(learning_rate=0.001) #coba ganti Adam\n",
    "\n",
    "#     model.compile(optimizer=optimizer,\n",
    "#                   loss='mse',\n",
    "#                   metrics=['mse','mae'])\n",
    "    \n",
    "#     return model"
   ]
  },
  {
   "cell_type": "code",
   "execution_count": 10,
   "metadata": {},
   "outputs": [],
   "source": [
    "model = build_model()\n",
    "#!pip install git+https://github.com/tensorflow/docs\n"
   ]
  },
  {
   "cell_type": "code",
   "execution_count": 11,
   "metadata": {},
   "outputs": [],
   "source": [
    "import tensorflow_docs as tfdocs\n",
    "import tensorflow_docs.modeling"
   ]
  },
  {
   "cell_type": "code",
   "execution_count": 12,
   "metadata": {},
   "outputs": [
    {
     "name": "stdout",
     "output_type": "stream",
     "text": [
      "\n",
      "Epoch: 0, loss:1044054.3750,  mae:796.3835,  mse:1044054.3750,  \n",
      "....................................................................................................\n",
      "Epoch: 100, loss:21672.1836,  mae:97.2653,  mse:21672.1836,  \n",
      "....................................................................................................\n",
      "Epoch: 200, loss:21148.5195,  mae:96.2228,  mse:21148.5195,  \n",
      "....................................................................................................\n",
      "Epoch: 300, loss:21520.4297,  mae:96.5643,  mse:21520.4297,  \n",
      "....................................................................................................\n",
      "Epoch: 400, loss:20677.0254,  mae:94.2524,  mse:20677.0254,  \n",
      "....................................................................................................\n",
      "Epoch: 500, loss:20888.2070,  mae:94.7955,  mse:20888.2070,  \n",
      "....................................................................................................\n",
      "Epoch: 600, loss:20951.6934,  mae:93.3363,  mse:20951.6934,  \n",
      "....................................................................................................\n",
      "Epoch: 700, loss:20774.4336,  mae:94.4131,  mse:20774.4336,  \n",
      "....................................................................................................\n",
      "Epoch: 800, loss:20463.6680,  mae:93.9358,  mse:20463.6680,  \n",
      "....................................................................................................\n",
      "Epoch: 900, loss:20565.7793,  mae:93.0459,  mse:20565.7793,  \n",
      "....................................................................................................\n",
      "Epoch: 1000, loss:19828.6543,  mae:92.3757,  mse:19828.6543,  \n",
      "....................................................................................................\n",
      "Epoch: 1100, loss:20274.8086,  mae:92.4149,  mse:20274.8086,  \n",
      "....................................................................................................\n",
      "Epoch: 1200, loss:19570.5527,  mae:90.9082,  mse:19570.5527,  \n",
      "....................................................................................................\n",
      "Epoch: 1300, loss:19786.2598,  mae:91.0862,  mse:19786.2598,  \n",
      "....................................................................................................\n",
      "Epoch: 1400, loss:19018.0059,  mae:90.1757,  mse:19018.0059,  \n",
      "....................................................................................................\n",
      "Epoch: 1500, loss:19231.3496,  mae:90.1588,  mse:19231.3496,  \n",
      "....................................................................................................\n",
      "Epoch: 1600, loss:19085.1348,  mae:89.9272,  mse:19085.1348,  \n",
      "....................................................................................................\n",
      "Epoch: 1700, loss:18903.2754,  mae:89.6294,  mse:18903.2754,  \n",
      "....................................................................................................\n",
      "Epoch: 1800, loss:19223.7441,  mae:90.0157,  mse:19223.7441,  \n",
      "....................................................................................................\n",
      "Epoch: 1900, loss:18551.1895,  mae:88.2375,  mse:18551.1895,  \n",
      "....................................................................................................\n",
      "Epoch: 2000, loss:18532.9004,  mae:88.1309,  mse:18532.9004,  \n",
      "....................................................................................................\n",
      "Epoch: 2100, loss:18629.4395,  mae:88.0558,  mse:18629.4395,  \n",
      "....................................................................................................\n",
      "Epoch: 2200, loss:18604.2832,  mae:87.7286,  mse:18604.2832,  \n",
      "....................................................................................................\n",
      "Epoch: 2300, loss:18067.9863,  mae:86.0889,  mse:18067.9863,  \n",
      "....................................................................................................\n",
      "Epoch: 2400, loss:17754.5625,  mae:86.4182,  mse:17754.5625,  \n",
      "....................................................................................................\n",
      "Epoch: 2500, loss:17914.4941,  mae:86.4157,  mse:17914.4941,  \n",
      "....................................................................................................\n",
      "Epoch: 2600, loss:17710.0801,  mae:86.2726,  mse:17710.0801,  \n",
      "....................................................................................................\n",
      "Epoch: 2700, loss:17617.1328,  mae:85.9195,  mse:17617.1328,  \n",
      "....................................................................................................\n",
      "Epoch: 2800, loss:17048.1426,  mae:84.5993,  mse:17048.1426,  \n",
      "....................................................................................................\n",
      "Epoch: 2900, loss:17257.6719,  mae:84.7680,  mse:17257.6719,  \n",
      "....................................................................................................\n",
      "Epoch: 3000, loss:17456.2402,  mae:85.5127,  mse:17456.2402,  \n",
      "....................................................................................................\n",
      "Epoch: 3100, loss:17431.4844,  mae:85.1636,  mse:17431.4844,  \n",
      "....................................................................................................\n",
      "Epoch: 3200, loss:17322.2852,  mae:84.5811,  mse:17322.2852,  \n",
      "....................................................................................................\n",
      "Epoch: 3300, loss:17301.7305,  mae:84.5300,  mse:17301.7305,  \n",
      "....................................................................................................\n",
      "Epoch: 3400, loss:17116.9609,  mae:84.5974,  mse:17116.9609,  \n",
      "....................................................................................................\n",
      "Epoch: 3500, loss:17098.4414,  mae:84.6323,  mse:17098.4414,  \n",
      "....................................................................................................\n",
      "Epoch: 3600, loss:17042.7051,  mae:83.5044,  mse:17042.7051,  \n",
      "....................................................................................................\n",
      "Epoch: 3700, loss:16831.0859,  mae:83.2598,  mse:16831.0859,  \n",
      "....................................................................................................\n",
      "Epoch: 3800, loss:16780.5469,  mae:83.1336,  mse:16780.5469,  \n",
      "....................................................................................................\n",
      "Epoch: 3900, loss:16928.3203,  mae:83.5974,  mse:16928.3203,  \n",
      "...................................................................................................."
     ]
    }
   ],
   "source": [
    "EPOCHS = 4000\n",
    "history = model.fit(X, y, epochs=EPOCHS, verbose = 0, callbacks=[tfdocs.modeling.EpochDots()])"
   ]
  },
  {
   "cell_type": "code",
   "execution_count": 13,
   "metadata": {},
   "outputs": [
    {
     "name": "stdout",
     "output_type": "stream",
     "text": [
      "29/29 [==============================] - 0s 1ms/step\n"
     ]
    },
    {
     "data": {
      "image/png": "[encoded data removed]",
      "text/plain": [
       "<Figure size 640x480 with 1 Axes>"
      ]
     },
     "metadata": {},
     "output_type": "display_data"
    }
   ],
   "source": [
    "import matplotlib.pyplot as plt\n",
    "test_predictions = model.predict(X).flatten()\n",
    "a = plt.axes(aspect='equal')\n",
    "plt.scatter(y, test_predictions)\n",
    "plt.xlabel('X')\n",
    "plt.ylabel('Y')\n",
    "_=plt.plot(y,y,color='orange')"
   ]
  },
  {
   "cell_type": "code",
   "execution_count": 14,
   "metadata": {},
   "outputs": [
    {
     "name": "stdout",
     "output_type": "stream",
     "text": [
      "1/1 [==============================] - 0s 82ms/step\n",
      "1/1 [==============================] - 0s 23ms/step\n"
     ]
    },
    {
     "data": {
      "text/plain": [
       "array([[2717.5906 ],\n",
       "       [ 965.09814]], dtype=float32)"
      ]
     },
     "execution_count": 14,
     "metadata": {},
     "output_type": "execute_result"
    }
   ],
   "source": [
    "import numpy as np\n",
    "# 989\t    14100\t                 0\t0\t0\t0\t0\t1\t0\t0\t0\t0\t0\t0\t1\n",
    "# 2251.54\t28200\t                 0\t0\t0\t0\t0\t0\t1\t0\t0\t0\t0\t0\t1\n",
    "# 91\t    9500\t                 0\t0\t0\t1\t0\t0\t0\t0\t0\t1\t0\t0\t0\n",
    "model.predict(np.array([[14100,\t 0,\t0,\t0,\t0,\t0,\t1,\t0,\t0,\t0,\t0,\t0,  0,  1]]))\n",
    "model.predict(np.array([[28200  ,    0,\t0,\t0,\t0,\t0,\t0,\t1,\t0,\t0,\t0,\t0,\t0,\t1],[14100,\t 0,\t0,\t0,\t0,\t0,\t1,\t0,\t0,\t0,\t0,\t0,  0,  1]]))\n",
    "#df"
   ]
  },
  {
   "cell_type": "code",
   "execution_count": 15,
   "metadata": {},
   "outputs": [
    {
     "data": {
      "text/plain": [
       "0.9618745453250899"
      ]
     },
     "execution_count": 15,
     "metadata": {},
     "output_type": "execute_result"
    }
   ],
   "source": [
    "from sklearn.metrics import r2_score\n",
    "r2_score(y, test_predictions)\n",
    "#test_predictions"
   ]
  },
  {
   "cell_type": "code",
   "execution_count": 403,
   "metadata": {},
   "outputs": [],
   "source": [
    "#tfjs.converters.save_keras_model(model, 'models')"
   ]
  },
  {
   "cell_type": "code",
   "execution_count": 404,
   "metadata": {},
   "outputs": [],
   "source": [
    "model.save(\"model.h5\")"
   ]
  },
  {
   "cell_type": "code",
   "execution_count": 405,
   "metadata": {},
   "outputs": [
    {
     "name": "stdout",
     "output_type": "stream",
     "text": [
      "weight count with shape () and dtype int64 was auto converted to the type int32\n"
     ]
    },
    {
     "name": "stderr",
     "output_type": "stream",
     "text": [
      "2023-06-06 19:57:24.239189: W tensorflow/stream_executor/platform/default/dso_loader.cc:64] Could not load dynamic library 'cudart64_110.dll'; dlerror: cudart64_110.dll not found\n",
      "2023-06-06 19:57:24.239693: I tensorflow/stream_executor/cuda/cudart_stub.cc:29] Ignore above cudart dlerror if you do not have a GPU set up on your machine.\n"
     ]
    }
   ],
   "source": [
    "!tensorflowjs_converter --input_format=keras model.h5 tfjs_model\n"
   ]
  },
  {
   "cell_type": "code",
   "execution_count": 17,
   "metadata": {},
   "outputs": [
    {
     "name": "stdout",
     "output_type": "stream",
     "text": [
      "INFO:tensorflow:Assets written to: fortflite/assets\n"
     ]
    }
   ],
   "source": [
    "#Export the saved model\n",
    "import pathlib\n",
    "import tflite as tflite\n",
    "\n",
    "export_dir = 'fortflite/'\n",
    "tf.saved_model.save(model, export_dir)"
   ]
  },
  {
   "cell_type": "code",
   "execution_count": 18,
   "metadata": {},
   "outputs": [],
   "source": [
    "#Convert the model\n",
    "\n",
    "converter = tf.lite.TFLiteConverter.from_saved_model(export_dir)\n",
    "tflite_model = converter.convert()\n"
   ]
  },
  {
   "cell_type": "code",
   "execution_count": 21,
   "metadata": {},
   "outputs": [
    {
     "data": {
      "text/plain": [
       "183164"
      ]
     },
     "execution_count": 21,
     "metadata": {},
     "output_type": "execute_result"
    }
   ],
   "source": [
    "#Save the model\n",
    "\n",
    "tflite_model_file = pathlib.Path('mlmodel.tflite')\n",
    "tflite_model_file.write_bytes(tflite_model)"
   ]
  },
  {
   "cell_type": "code",
   "execution_count": 22,
   "metadata": {},
   "outputs": [
    {
     "ename": "NameError",
     "evalue": "name 'files' is not defined",
     "output_type": "error",
     "traceback": [
      "\u001b[1;31m---------------------------------------------------------------------------\u001b[0m",
      "\u001b[1;31mNameError\u001b[0m                                 Traceback (most recent call last)",
      "Cell \u001b[1;32mIn[22], line 1\u001b[0m\n\u001b[1;32m----> 1\u001b[0m files\u001b[39m.\u001b[39mdownload(tflite_model_file)\n",
      "\u001b[1;31mNameError\u001b[0m: name 'files' is not defined"
     ]
    }
   ],
   "source": [
    "files.download(tflite_model_file)"
   ]
  },
  {
   "cell_type": "code",
   "execution_count": 409,
   "metadata": {},
   "outputs": [
    {
     "name": "stdout",
     "output_type": "stream",
     "text": [
      "INFO:tensorflow:Assets written to: models/rps_model/1/assets\n"
     ]
    }
   ],
   "source": [
    "import os\n",
    "save_path = os.path.join(\"models/rps_model/1/\")\n",
    "tf.saved_model.save(model, save_path)"
   ]
  }
 ],
 "metadata": {
  "kernelspec": {
   "display_name": "base",
   "language": "python",
   "name": "python3"
  },
  "language_info": {
   "codemirror_mode": {
    "name": "ipython",
    "version": 3
   },
   "file_extension": ".py",
   "mimetype": "text/x-python",
   "name": "python",
   "nbconvert_exporter": "python",
   "pygments_lexer": "ipython3",
   "version": "3.10.9"
  },
  "orig_nbformat": 4
 },
 "nbformat": 4,
 "nbformat_minor": 2
}
